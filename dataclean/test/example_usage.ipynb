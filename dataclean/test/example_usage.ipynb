{
 "cells": [
  {
   "cell_type": "markdown",
   "id": "c82a56d9f74d1d58",
   "metadata": {},
   "source": [
    "# HateSQL\n",
    "#### made by Andrian Hyriak and Victor Golomovzuy"
   ]
  },
  {
   "cell_type": "markdown",
   "id": "b779969df3b60fcd",
   "metadata": {},
   "source": [
    "## Library example usage"
   ]
  },
  {
   "cell_type": "code",
   "execution_count": 1,
   "id": "initial_id",
   "metadata": {
    "ExecuteTime": {
     "end_time": "2024-11-23T16:42:31.680475Z",
     "start_time": "2024-11-23T16:42:30.495619Z"
    },
    "collapsed": true
   },
   "outputs": [
    {
     "ename": "ModuleNotFoundError",
     "evalue": "No module named 'dataclean'",
     "output_type": "error",
     "traceback": [
      "\u001B[1;31m---------------------------------------------------------------------------\u001B[0m",
      "\u001B[1;31mModuleNotFoundError\u001B[0m                       Traceback (most recent call last)",
      "Cell \u001B[1;32mIn[1], line 3\u001B[0m\n\u001B[0;32m      1\u001B[0m \u001B[38;5;28;01mimport\u001B[39;00m \u001B[38;5;21;01mpandas\u001B[39;00m \u001B[38;5;28;01mas\u001B[39;00m \u001B[38;5;21;01mpd\u001B[39;00m\n\u001B[0;32m      2\u001B[0m \u001B[38;5;28;01mimport\u001B[39;00m \u001B[38;5;21;01mnumpy\u001B[39;00m \u001B[38;5;28;01mas\u001B[39;00m \u001B[38;5;21;01mnp\u001B[39;00m\n\u001B[1;32m----> 3\u001B[0m \u001B[38;5;28;01mfrom\u001B[39;00m \u001B[38;5;21;01mdataclean\u001B[39;00m\u001B[38;5;21;01m.\u001B[39;00m\u001B[38;5;21;01msrc\u001B[39;00m\u001B[38;5;21;01m.\u001B[39;00m\u001B[38;5;21;01mdata_valydator\u001B[39;00m \u001B[38;5;28;01mimport\u001B[39;00m DataValidator\n\u001B[0;32m      4\u001B[0m \u001B[38;5;28;01mfrom\u001B[39;00m \u001B[38;5;21;01mdataclean\u001B[39;00m\u001B[38;5;21;01m.\u001B[39;00m\u001B[38;5;21;01msrc\u001B[39;00m\u001B[38;5;21;01m.\u001B[39;00m\u001B[38;5;21;01mfeature_engineering\u001B[39;00m \u001B[38;5;28;01mimport\u001B[39;00m FeatureEngineering\n\u001B[0;32m      5\u001B[0m \u001B[38;5;28;01mfrom\u001B[39;00m \u001B[38;5;21;01mdataclean\u001B[39;00m\u001B[38;5;21;01m.\u001B[39;00m\u001B[38;5;21;01msrc\u001B[39;00m\u001B[38;5;21;01m.\u001B[39;00m\u001B[38;5;21;01mmissing_data_handler\u001B[39;00m \u001B[38;5;28;01mimport\u001B[39;00m MissingDataHandler\n",
      "\u001B[1;31mModuleNotFoundError\u001B[0m: No module named 'dataclean'"
     ]
    }
   ],
   "source": [
    "import pandas as pd\n",
    "import numpy as np\n",
    "from dataclean.src.data_valydator import DataValidator\n",
    "from dataclean.src.feature_engineering import FeatureEngineering\n",
    "from dataclean.src.missing_data_handler import MissingDataHandler\n",
    "from dataclean.src.outliner_handler import OutlierHandler\n",
    "from dataclean.src.scaling_encoding_handler import ScalingEncodingHandler\n",
    "from dataclean.src.transformation_normalization_handler import TransformationNormalizationHandler\n",
    "\n"
   ]
  },
  {
   "cell_type": "code",
   "execution_count": 2,
   "id": "f03b1669b7bf052",
   "metadata": {
    "ExecuteTime": {
     "end_time": "2024-11-23T16:42:31.695997Z",
     "start_time": "2024-11-23T16:42:31.680475Z"
    }
   },
   "outputs": [
    {
     "name": "stdout",
     "output_type": "stream",
     "text": [
      "<class 'pandas.core.frame.DataFrame'>\n",
      "RangeIndex: 374 entries, 0 to 373\n",
      "Data columns (total 13 columns):\n",
      " #   Column                   Non-Null Count  Dtype  \n",
      "---  ------                   --------------  -----  \n",
      " 0   Person ID                374 non-null    int64  \n",
      " 1   Gender                   374 non-null    object \n",
      " 2   Age                      374 non-null    int64  \n",
      " 3   Occupation               374 non-null    object \n",
      " 4   Sleep Duration           374 non-null    float64\n",
      " 5   Quality of Sleep         374 non-null    int64  \n",
      " 6   Physical Activity Level  374 non-null    int64  \n",
      " 7   Stress Level             374 non-null    int64  \n",
      " 8   BMI Category             374 non-null    object \n",
      " 9   Blood Pressure           374 non-null    object \n",
      " 10  Heart Rate               374 non-null    int64  \n",
      " 11  Daily Steps              374 non-null    int64  \n",
      " 12  Sleep Disorder           155 non-null    object \n",
      "dtypes: float64(1), int64(7), object(5)\n",
      "memory usage: 38.1+ KB\n"
     ]
    }
   ],
   "source": [
    "df = pd.read_csv('Sleep_health_and_lifestyle_dataset.csv')\n",
    "df.info()"
   ]
  },
  {
   "cell_type": "code",
   "execution_count": 3,
   "id": "f76ee9f6d3e341b0",
   "metadata": {
    "ExecuteTime": {
     "end_time": "2024-11-23T16:42:31.770122Z",
     "start_time": "2024-11-23T16:42:31.695997Z"
    }
   },
   "outputs": [
    {
     "name": "stdout",
     "output_type": "stream",
     "text": [
      "Basic Dataset Information:\n",
      "--------------------------\n",
      "Dataset Shape: (374, 13)\n",
      "\n",
      "Data Types:\n",
      "Person ID                    int64\n",
      "Gender                      object\n",
      "Age                          int64\n",
      "Occupation                  object\n",
      "Sleep Duration             float64\n",
      "Quality of Sleep             int64\n",
      "Physical Activity Level      int64\n",
      "Stress Level                 int64\n",
      "BMI Category                object\n",
      "Blood Pressure              object\n",
      "Heart Rate                   int64\n",
      "Daily Steps                  int64\n",
      "Sleep Disorder              object\n",
      "dtype: object\n",
      "\n",
      "First few rows of data:\n",
      "   Person ID Gender  Age            Occupation  Sleep Duration  \\\n",
      "0          1   Male   27     Software Engineer             6.1   \n",
      "1          2   Male   28                Doctor             6.2   \n",
      "2          3   Male   28                Doctor             6.2   \n",
      "3          4   Male   28  Sales Representative             5.9   \n",
      "4          5   Male   28  Sales Representative             5.9   \n",
      "\n",
      "   Quality of Sleep  Physical Activity Level  Stress Level BMI Category  \\\n",
      "0                 6                       42             6   Overweight   \n",
      "1                 6                       60             8       Normal   \n",
      "2                 6                       60             8       Normal   \n",
      "3                 4                       30             8        Obese   \n",
      "4                 4                       30             8        Obese   \n",
      "\n",
      "  Blood Pressure  Heart Rate  Daily Steps Sleep Disorder  \n",
      "0         126/83          77         4200            NaN  \n",
      "1         125/80          75        10000            NaN  \n",
      "2         125/80          75        10000            NaN  \n",
      "3         140/90          85         3000    Sleep Apnea  \n",
      "4         140/90          85         3000    Sleep Apnea  \n",
      "\n",
      "Summary Statistics:\n",
      "-------------------\n",
      "        Person ID         Age  Sleep Duration  Quality of Sleep  \\\n",
      "count  374.000000  374.000000      374.000000        374.000000   \n",
      "mean   187.500000   42.184492        7.132086          7.312834   \n",
      "std    108.108742    8.673133        0.795657          1.196956   \n",
      "min      1.000000   27.000000        5.800000          4.000000   \n",
      "25%     94.250000   35.250000        6.400000          6.000000   \n",
      "50%    187.500000   43.000000        7.200000          7.000000   \n",
      "75%    280.750000   50.000000        7.800000          8.000000   \n",
      "max    374.000000   59.000000        8.500000          9.000000   \n",
      "\n",
      "       Physical Activity Level  Stress Level  Heart Rate   Daily Steps  \n",
      "count               374.000000    374.000000  374.000000    374.000000  \n",
      "mean                 59.171123      5.385027   70.165775   6816.844920  \n",
      "std                  20.830804      1.774526    4.135676   1617.915679  \n",
      "min                  30.000000      3.000000   65.000000   3000.000000  \n",
      "25%                  45.000000      4.000000   68.000000   5600.000000  \n",
      "50%                  60.000000      5.000000   70.000000   7000.000000  \n",
      "75%                  75.000000      7.000000   72.000000   8000.000000  \n",
      "max                  90.000000      8.000000   86.000000  10000.000000  \n",
      "\n",
      "Missing Value Report:\n",
      "---------------------\n",
      "                Missing Values  Percentage\n",
      "Sleep Disorder             219    58.55615\n",
      "\n",
      "Duplicate Rows Report:\n",
      "----------------------\n",
      "No duplicate rows found.\n",
      "\n",
      "Unique Values Report:\n",
      "---------------------\n",
      "Unique values per column:\n",
      "Person ID                  374\n",
      "Gender                       2\n",
      "Age                         31\n",
      "Occupation                  11\n",
      "Sleep Duration              27\n",
      "Quality of Sleep             6\n",
      "Physical Activity Level     16\n",
      "Stress Level                 6\n",
      "BMI Category                 4\n",
      "Blood Pressure              25\n",
      "Heart Rate                  19\n",
      "Daily Steps                 20\n",
      "Sleep Disorder               2\n",
      "dtype: int64\n",
      "\n",
      "High Correlation Pairs (Threshold > 0.8):\n",
      "-----------------------------------------\n",
      "Age - Person ID: 0.99\n",
      "Quality of Sleep - Sleep Duration: 0.88\n",
      "Stress Level - Sleep Duration: -0.81\n",
      "Stress Level - Quality of Sleep: -0.90\n",
      "\n",
      "Outlier Summary for Numerical Columns:\n",
      "-------------------------------------\n",
      "Number of outliers in 'Person ID': 0\n",
      "Number of outliers in 'Age': 0\n",
      "Number of outliers in 'Sleep Duration': 0\n",
      "Number of outliers in 'Quality of Sleep': 0\n",
      "Number of outliers in 'Physical Activity Level': 0\n",
      "Number of outliers in 'Stress Level': 0\n",
      "Number of outliers in 'Heart Rate': 15\n",
      "Number of outliers in 'Daily Steps': 0\n",
      "\n",
      "Distribution Check for Numerical Columns:\n",
      "----------------------------------------\n",
      "Column 'Person ID' does not follow a normal distribution (p-value: 3.7407948340754106e-48).\n",
      "Column 'Age' does not follow a normal distribution (p-value: 5.681234209358877e-12).\n",
      "Column 'Sleep Duration' does not follow a normal distribution (p-value: 2.7290743156282892e-92).\n",
      "Column 'Quality of Sleep' does not follow a normal distribution (p-value: 2.8454316322969777e-06).\n",
      "Column 'Physical Activity Level' does not follow a normal distribution (p-value: 1.9828970027745065e-77).\n",
      "Column 'Stress Level' does not follow a normal distribution (p-value: 4.838673148853032e-141).\n",
      "Column 'Heart Rate' does not follow a normal distribution (p-value: 2.2768679171387625e-19).\n",
      "Column 'Daily Steps' follows a normal distribution (p-value: 0.06480471168737915).\n",
      "\n",
      "Data validation completed. Review the above details for any necessary cleaning or preprocessing steps.\n"
     ]
    }
   ],
   "source": [
    "engine = DataValidator(df)\n",
    "engine.describe_data()\n"
   ]
  },
  {
   "cell_type": "markdown",
   "id": "97e9c170c60e6b0a",
   "metadata": {},
   "source": [
    "## additionl features"
   ]
  },
  {
   "cell_type": "code",
   "execution_count": 4,
   "id": "fc2f1f67ba40cda0",
   "metadata": {
    "ExecuteTime": {
     "end_time": "2024-11-23T16:42:31.833999Z",
     "start_time": "2024-11-23T16:42:31.770122Z"
    }
   },
   "outputs": [
    {
     "name": "stdout",
     "output_type": "stream",
     "text": [
      "   age  income category  target  age_x_income age_binned  age_pow_2  \\\n",
      "0   10     100        A       1          1000        Low        100   \n",
      "1   20     150        A       0          3000     Medium        400   \n",
      "2   15     120        B       1          1800        Low        225   \n",
      "3   25     200        B       1          5000       High        625   \n",
      "4   30     180        C       0          5400       High        900   \n",
      "\n",
      "   age_pow_3  category_A  category_B  category_other  category_mean_target  \\\n",
      "0       1000           1           0               0                   0.5   \n",
      "1       8000           1           0               0                   0.5   \n",
      "2       3375           0           1               0                   1.0   \n",
      "3      15625           0           1               0                   1.0   \n",
      "4      27000           0           0               1                   0.0   \n",
      "\n",
      "   age_lag_1  age_lag_2  income_rolling_mean_2  income_rolling_std_2  \n",
      "0        NaN        NaN                    NaN                   NaN  \n",
      "1       10.0        NaN                  125.0             35.355339  \n",
      "2       20.0       10.0                  135.0             21.213203  \n",
      "3       15.0       20.0                  160.0             56.568542  \n",
      "4       25.0       15.0                  190.0             14.142136  \n"
     ]
    }
   ],
   "source": [
    "\n",
    "# Sample dataset with more realistic column names\n",
    "data = pd.DataFrame({\n",
    "    'age': [10, 20, 15, 25, 30],\n",
    "    'income': [100, 150, 120, 200, 180],\n",
    "    'category': ['A', 'A', 'B', 'B', 'C'],\n",
    "    'target': [1, 0, 1, 1, 0]\n",
    "})\n",
    "\n",
    "# Initialize FeatureEngineering instance\n",
    "fe = FeatureEngineering()\n",
    "\n",
    "# Generate interaction terms for 'age' and 'income'\n",
    "data = fe.generate_interaction_terms(data, columns=['age', 'income'], degree=2)\n",
    "\n",
    "# Bin 'age' into 3 quantiles\n",
    "data = fe.binning(data, column='age', bins=3, labels=['Low', 'Medium', 'High'], strategy='quantile')\n",
    "\n",
    "# Create polynomial features for 'age' up to degree 3\n",
    "data = fe.create_polynomial_features(data, columns=['age'], degree=3)\n",
    "\n",
    "# Expand 'category' column into dummy variables with a 20% frequency threshold\n",
    "data = fe.expand_categorical(data, column='category', threshold=0.2)\n",
    "\n",
    "# Aggregate 'target' column by 'category' column, calculating the mean for each category\n",
    "data = fe.group_and_aggregate(data, column='category', target='target', agg_func='mean')\n",
    "\n",
    "# Generate 2 lagged features for 'age'\n",
    "data = fe.generate_lagged_features(data, column='age', lags=2)\n",
    "\n",
    "# Calculate rolling mean and standard deviation for 'income' with a window size of 2\n",
    "data = fe.rolling_statistics(data, column='income', window=2, stats=['mean', 'std'])\n",
    "\n",
    "# Print the resulting DataFrame\n",
    "print(data)\n"
   ]
  },
  {
   "cell_type": "markdown",
   "id": "34f63cb2919952bc",
   "metadata": {},
   "source": [
    "## missing values handling"
   ]
  },
  {
   "cell_type": "code",
   "execution_count": 5,
   "id": "130a1c4c17f02f73",
   "metadata": {
    "ExecuteTime": {
     "end_time": "2024-11-23T16:42:31.913331Z",
     "start_time": "2024-11-23T16:42:31.833999Z"
    }
   },
   "outputs": [
    {
     "name": "stdout",
     "output_type": "stream",
     "text": [
      "      Name   Age  Gender Sleep Disorder  Hours Worked   Salary\n",
      "0    Alice  25.0  Female           None          40.0  50000.0\n",
      "1      Bob   NaN    Male       Insomnia          50.0  60000.0\n",
      "2  Charlie  30.0    None           None          45.0  55000.0\n",
      "3     None  22.0  Female    Sleep Apnea           NaN      NaN\n",
      "4      Eve   NaN  Female       Insomnia          38.0  48000.0\n",
      "5    Frank  35.0    None           None           NaN  62000.0\n",
      "6     None  40.0    Male           None          60.0      NaN\n",
      "Missing Data Impact Analysis and Fill Recommendations:\n",
      "               Most Correlated Feature Recommended Fill Method\n",
      "Name                              None                    mode\n",
      "Age                               None                    mean\n",
      "Gender                            None                    mode\n",
      "Sleep Disorder                    None                    mode\n",
      "Hours Worked                      None                    mean\n",
      "Salary                            None                    mean\n",
      "Detailed Missing Data Report by Column:\n",
      "                Missing Count  Percent Missing Data Type\n",
      "Sleep Disorder              4        57.142857    object\n",
      "Name                        2        28.571429    object\n",
      "Age                         2        28.571429   float64\n",
      "Gender                      2        28.571429    object\n",
      "Hours Worked                2        28.571429   float64\n",
      "Salary                      2        28.571429   float64\n",
      "Identified Missing Data Patterns:\n",
      "                                       Pattern  Count\n",
      "0                        Sleep Disorder, Count      1\n",
      "1                Gender, Sleep Disorder, Count      1\n",
      "2  Gender, Sleep Disorder, Hours Worked, Count      1\n",
      "3                                          Age      2\n",
      "4            Name, Hours Worked, Salary, Count      1\n",
      "5          Name, Sleep Disorder, Salary, Count      1\n",
      "Filled 'Sleep Disorder' with constant (healthy sleap). Missing values before: 4, after: 0\n"
     ]
    }
   ],
   "source": [
    "# Initialize MissingDataHandler\n",
    "data = {\n",
    "    \"Name\": [\"Alice\", \"Bob\", \"Charlie\", None, \"Eve\", \"Frank\", None],\n",
    "    \"Age\": [25, np.nan, 30, 22, None, 35, 40],\n",
    "    \"Gender\": [\"Female\", \"Male\", None, \"Female\", \"Female\", None, \"Male\"],\n",
    "    \"Sleep Disorder\": [None, \"Insomnia\", None, \"Sleep Apnea\", \"Insomnia\", None, None],\n",
    "    \"Hours Worked\": [40, 50, 45, np.nan, 38, None, 60],\n",
    "    \"Salary\": [50000, 60000, 55000, None, 48000, 62000, None],\n",
    "}\n",
    "\n",
    "# Convert to DataFrame\n",
    "df = pd.DataFrame(data)\n",
    "\n",
    "# Display the DataFrame\n",
    "print(df)\n",
    "\n",
    "missing_handler = MissingDataHandler(df)\n",
    "\n",
    "# Get recommendations for handling missing values based on correlation analysis\n",
    "missing_handler.summarize_missing_impact()\n",
    "\n",
    "# Detailed missing data report\n",
    "missing_handler.detect_missing()\n",
    "\n",
    "# Identify patterns in missing data\n",
    "missing_handler.identify_missing_patterns()\n",
    "\n",
    "# Fill missing values based on mean, with before/after statistics\n",
    "missing_handler.fill_missing(strategy=\"constant\", value=\"healthy sleap\", columns=['Sleep Disorder'])\n",
    "\n"
   ]
  },
  {
   "cell_type": "markdown",
   "id": "3ac6fcc8e4a93068",
   "metadata": {},
   "source": [
    "## Outliners handling"
   ]
  },
  {
   "cell_type": "markdown",
   "id": "e644e8d509385730",
   "metadata": {},
   "source": []
  },
  {
   "cell_type": "code",
   "execution_count": 6,
   "id": "a06fed9bcffb8b41",
   "metadata": {
    "ExecuteTime": {
     "end_time": "2024-11-23T16:42:31.959330Z",
     "start_time": "2024-11-23T16:42:31.913331Z"
    }
   },
   "outputs": [
    {
     "name": "stdout",
     "output_type": "stream",
     "text": [
      "Outliers detected: {'price': [4, 9], 'quantity': [0, 4, 6, 9]}\n",
      "\n",
      "Data after removing outliers:\n",
      "    price  quantity\n",
      "1     12         2\n",
      "2     14         2\n",
      "3     15         2\n",
      "5     15         2\n",
      "7     14         2\n",
      "8     15         2\n",
      "\n",
      "Data after capping outliers:\n",
      "    price  quantity\n",
      "0  10.00       2.0\n",
      "1  12.00       2.0\n",
      "2  14.00       2.0\n",
      "3  15.00       2.0\n",
      "4  18.75       2.0\n",
      "5  15.00       2.0\n",
      "6  12.00       2.0\n",
      "7  14.00       2.0\n",
      "8  15.00       2.0\n",
      "9  18.75       2.0\n"
     ]
    }
   ],
   "source": [
    "\n",
    "data = pd.DataFrame({\n",
    "    'price': [10, 12, 14, 15, 100, 15, 12, 14, 15, 100],\n",
    "    'quantity': [1, 2, 2, 2, 200, 2, 1, 2, 2, 200]\n",
    "})\n",
    "\n",
    "# Initialize OutlierHandler instance\n",
    "handler = OutlierHandler()\n",
    "\n",
    "# Detect outliers in 'price' and 'quantity'\n",
    "outliers = handler.detect_outliers(data, columns=['price', 'quantity'])\n",
    "print(\"Outliers detected:\", outliers)\n",
    "\n",
    "# Remove outliers from 'price' and 'quantity'\n",
    "cleaned_data = handler.remove_outliers(data, columns=['price', 'quantity'])\n",
    "print(\"\\nData after removing outliers:\\n\", cleaned_data)\n",
    "\n",
    "# Cap outliers in 'price' and 'quantity' within defined bounds\n",
    "capped_data = handler.cap_outliers(data, columns=['price', 'quantity'])\n",
    "print(\"\\nData after capping outliers:\\n\", capped_data)\n"
   ]
  },
  {
   "cell_type": "markdown",
   "id": "83c8d0be89acc7b4",
   "metadata": {},
   "source": [
    "## scaling encoding handler"
   ]
  },
  {
   "cell_type": "code",
   "execution_count": 8,
   "id": "6bb1c695c350f999",
   "metadata": {
    "ExecuteTime": {
     "end_time": "2024-11-23T16:45:59.297857Z",
     "start_time": "2024-11-23T16:45:59.266325Z"
    }
   },
   "outputs": [
    {
     "name": "stdout",
     "output_type": "stream",
     "text": [
      "Original DataFrame:\n",
      "   Employee ID   Age Department  Hours Worked   Salary Sleep Disorder\n",
      "0          101  25.0         HR          40.0  50000.0           None\n",
      "1          102  30.0         IT           NaN  60000.0       Insomnia\n",
      "2          103   NaN    Finance          45.0  55000.0           None\n",
      "3          104  35.0       None          38.0  48000.0    Sleep Apnea\n",
      "4          105  40.0         IT          60.0      NaN           None\n",
      "\n",
      "Scaling numerical features:\n",
      "   Employee ID  Age Department  Hours Worked    Salary Sleep Disorder\n",
      "0    -1.414214 -1.5         HR     -0.746376 -0.780250           None\n",
      "1    -0.707107 -0.5         IT      0.000000  1.620519       Insomnia\n",
      "2     0.000000  0.0    Finance     -0.097353  0.420134           None\n",
      "3     0.707107  0.5       None     -1.005985 -1.260403    Sleep Apnea\n",
      "4     1.414214  1.5         IT      1.849714  0.000000           None\n",
      "\n",
      "Encoding categorical features:\n",
      "   Employee ID   Age  Hours Worked   Salary  Department_HR  Department_IT  \\\n",
      "0          101  25.0          40.0  50000.0           True          False   \n",
      "1          102  30.0           NaN  60000.0          False           True   \n",
      "2          103   NaN          45.0  55000.0          False          False   \n",
      "3          104  35.0          38.0  48000.0          False           True   \n",
      "4          105  40.0          60.0      NaN          False           True   \n",
      "\n",
      "   Sleep Disorder_None  Sleep Disorder_Sleep Apnea  \n",
      "0                 True                       False  \n",
      "1                False                       False  \n",
      "2                 True                       False  \n",
      "3                False                        True  \n",
      "4                 True                       False  \n",
      "\n",
      "Scaling and encoding combined:\n",
      "   Employee ID    Age  Hours Worked    Salary  Department_HR  Department_IT  \\\n",
      "0         0.00  0.625      0.666667  0.833333           True          False   \n",
      "1         0.25  0.750      0.000000  1.000000          False           True   \n",
      "2         0.50  0.000      0.750000  0.916667          False          False   \n",
      "3         0.75  0.875      0.633333  0.800000          False           True   \n",
      "4         1.00  1.000      1.000000  0.000000          False           True   \n",
      "\n",
      "   Sleep Disorder_None  Sleep Disorder_Sleep Apnea  \n",
      "0                 True                       False  \n",
      "1                False                       False  \n",
      "2                 True                       False  \n",
      "3                False                        True  \n",
      "4                 True                       False  \n"
     ]
    }
   ],
   "source": [
    "\n",
    "data = {\n",
    "    \"Employee ID\": [101, 102, 103, 104, 105],\n",
    "    \"Age\": [25, 30, None, 35, 40],\n",
    "    \"Department\": [\"HR\", \"IT\", \"Finance\", None, \"IT\"],\n",
    "    \"Hours Worked\": [40, None, 45, 38, 60],\n",
    "    \"Salary\": [50000, 60000, 55000, 48000, None],\n",
    "    \"Sleep Disorder\": [\"None\", \"Insomnia\", None, \"Sleep Apnea\", \"None\"]\n",
    "}\n",
    "\n",
    "# Convert to DataFrame\n",
    "df = pd.DataFrame(data)\n",
    "print(\"Original DataFrame:\")\n",
    "print(df)\n",
    "handler = ScalingEncodingHandler()\n",
    "\n",
    "# Step 1: Scale numerical features\n",
    "print(\"\\nScaling numerical features:\")\n",
    "scaled_df = handler.scale_features(\n",
    "    data=df.copy(),\n",
    "    method='standard',  # Using StandardScaler\n",
    "    fillna_strategy='mean'  # Fill missing values with the mean\n",
    ")\n",
    "print(scaled_df)\n",
    "\n",
    "# Step 2: Encode categorical features\n",
    "print(\"\\nEncoding categorical features:\")\n",
    "encoded_df = handler.encode_categorical(\n",
    "    data=df.copy(),\n",
    "    method='onehot',  # Using OneHotEncoding\n",
    "    drop_first=True,  # Drop the first column for linear models\n",
    "    fillna_strategy='mode'  # Fill missing values with the mode\n",
    ")\n",
    "print(encoded_df)\n",
    "\n",
    "# Step 3: Combine both scaling and encoding\n",
    "print(\"\\nScaling and encoding combined:\")\n",
    "scaled_encoded_df = handler.scale_features(\n",
    "    data=encoded_df.copy(),\n",
    "    method='minmax',  # Using MinMaxScaler\n",
    "    fillna_strategy='zero'  # Fill missing values with zero\n",
    ")\n",
    "print(scaled_encoded_df)"
   ]
  },
  {
   "cell_type": "markdown",
   "id": "944211bb356be965",
   "metadata": {},
   "source": [
    "# Transformation Normalization Handler"
   ]
  },
  {
   "cell_type": "code",
   "execution_count": null,
   "id": "79147590aa9d3c02",
   "metadata": {
    "ExecuteTime": {
     "end_time": "2024-11-23T16:49:34.012092Z",
     "start_time": "2024-11-23T16:49:33.975521Z"
    }
   },
   "outputs": [
    {
     "name": "stdout",
     "output_type": "stream",
     "text": [
      "Original Dataset:\n",
      "   Feature_A  Feature_B  Feature_C  Feature_D\n",
      "0         10        0.1        100          1\n",
      "1         20        0.2        200          4\n",
      "2         15       -0.1        150          9\n",
      "3         25        0.3        250         16\n",
      "4         30        0.4        300         25\n",
      "\n",
      "Dataset after Log Transformation (Feature_B):\n",
      "   Feature_A  Feature_B  Feature_C  Feature_D\n",
      "0         10   0.182322        100          1\n",
      "1         20   0.262364        200          4\n",
      "2         15   0.000000        150          9\n",
      "3         25   0.336472        250         16\n",
      "4         30   0.405465        300         25\n",
      "\n",
      "Dataset after Normalization (Feature_A, Feature_C):\n",
      "   Feature_A  Feature_B  Feature_C  Feature_D\n",
      "0       0.00   0.182322       0.00          1\n",
      "1       0.50   0.262364       0.50          4\n",
      "2       0.25   0.000000       0.25          9\n",
      "3       0.75   0.336472       0.75         16\n",
      "4       1.00   0.405465       1.00         25\n",
      "\n",
      "Dataset after Box-Cox Transformation (Feature_C):\n",
      "   Feature_A  Feature_B  Feature_C  Feature_D\n",
      "0       0.00   0.182322  -0.000000          1\n",
      "1       0.50   0.262364   0.277778          4\n",
      "2       0.25   0.000000   0.180000          9\n",
      "3       0.75   0.336472   0.336735         16\n",
      "4       1.00   0.405465   0.375000         25\n",
      "\n",
      "Dataset after Square Root Transformation (Feature_D):\n",
      "   Feature_A  Feature_B  Feature_C  Feature_D\n",
      "0       0.00   0.182322  -0.000000        1.0\n",
      "1       0.50   0.262364   0.277778        2.0\n",
      "2       0.25   0.000000   0.180000        3.0\n",
      "3       0.75   0.336472   0.336735        4.0\n",
      "4       1.00   0.405465   0.375000        5.0\n"
     ]
    }
   ],
   "source": [
    "import pandas as pd\n",
    "import numpy as np\n",
    "\n",
    "# Create a sample dataset\n",
    "data = {\n",
    "    \"Feature_A\": [10, 20, 15, 25, 30],\n",
    "    \"Feature_B\": [0.1, 0.2, -0.1, 0.3, 0.4],\n",
    "    \"Feature_C\": [100, 200, 150, 250, 300],\n",
    "    \"Feature_D\": [1, 4, 9, 16, 25],\n",
    "}\n",
    "df = pd.DataFrame(data)\n",
    "\n",
    "print(\"Original Dataset:\")\n",
    "print(df)\n",
    "# Initialize the handler\n",
    "handler = TransformationNormalizationHandler()\n",
    "\n",
    "# Log Transformation with handling negatives for Feature_B\n",
    "df = handler.log_transform(data=df, columns=[\"Feature_B\"], handle_negatives=True)\n",
    "print(\"\\nDataset after Log Transformation (Feature_B):\")\n",
    "print(df)\n",
    "\n",
    "# Normalizing Feature_A and Feature_C to range (0, 1)\n",
    "df = handler.normalize(data=df, columns=[\"Feature_A\", \"Feature_C\"], target_range=(0, 1))\n",
    "print(\"\\nDataset after Normalization (Feature_A, Feature_C):\")\n",
    "print(df)\n",
    "\n",
    "# Box-Cox Transformation for Feature_C\n",
    "if (df[\"Feature_C\"] <= 0).any():\n",
    "    offset = abs(df[\"Feature_C\"].min()) + 1  # Add an offset to make values positive\n",
    "    df[\"Feature_C\"] += offset\n",
    "\n",
    "# Apply Box-Cox Transformation\n",
    "df = handler.boxcox_transform(data=df, columns=[\"Feature_C\"])\n",
    "print(\"\\nDataset after Box-Cox Transformation (Feature_C):\")\n",
    "print(df)\n",
    "\n",
    "# Square Root Transformation for Feature_D\n",
    "df = handler.sqrt_transform(data=df, columns=[\"Feature_D\"], handle_negatives=False)\n",
    "print(\"\\nDataset after Square Root Transformation (Feature_D):\")\n",
    "print(df)\n"
   ]
  },
  {
   "cell_type": "markdown",
   "id": "3178667935a4967f",
   "metadata": {},
   "source": []
  }
 ],
 "metadata": {
  "kernelspec": {
   "display_name": "Python 3",
   "language": "python",
   "name": "python3"
  },
  "language_info": {
   "codemirror_mode": {
    "name": "ipython",
    "version": 3
   },
   "file_extension": ".py",
   "mimetype": "text/x-python",
   "name": "python",
   "nbconvert_exporter": "python",
   "pygments_lexer": "ipython3",
   "version": "3.12.7"
  }
 },
 "nbformat": 4,
 "nbformat_minor": 5
}
